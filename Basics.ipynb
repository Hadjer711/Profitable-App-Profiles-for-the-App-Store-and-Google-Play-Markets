{
 "cells": [
  {
   "cell_type": "markdown",
   "metadata": {},
   "source": [
    "*This notebook is a guided project from datquest course (data analyst path)*"
   ]
  },
  {
   "cell_type": "markdown",
   "metadata": {},
   "source": [
    "# Profitanle App Profiles for the App Store and Google Play Markets\n"
   ]
  },
  {
   "cell_type": "markdown",
   "metadata": {},
   "source": [
    "For this project, we'll pretend we're working as data analysts for a company that builds Android and iOS mobile apps. We make our apps available on Google Play and the App Store."
   ]
  },
  {
   "cell_type": "code",
   "execution_count": null,
   "metadata": {},
   "outputs": [],
   "source": []
  },
  {
   "cell_type": "code",
   "execution_count": 15,
   "metadata": {},
   "outputs": [],
   "source": [
    "import csv\n",
    "file_ios=open('AppleStore.csv')\n",
    "file_android=open('googleplaystore.csv')\n",
    "read_ios=csv.reader(file_ios)\n",
    "read_android=csv.reader(file_android)\n",
    "data_ios=list(read_ios)\n",
    "data_android=list(read_android)\n"
   ]
  },
  {
   "cell_type": "code",
   "execution_count": 12,
   "metadata": {
    "collapsed": true
   },
   "outputs": [],
   "source": [
    "def explore_data(dataset, start, end, rows_and_columns=False):\n",
    "    dataset_slice = dataset[start:end]    \n",
    "    for row in dataset_slice:\n",
    "        print(row)\n",
    "        print('\\n') # adds a new (empty) line after each row\n",
    "\n",
    "    if rows_and_columns:\n",
    "        print('Number of rows:', len(dataset))\n",
    "        print('Number of columns:', len(dataset[0]))"
   ]
  },
  {
   "cell_type": "code",
   "execution_count": 16,
   "metadata": {},
   "outputs": [
    {
     "name": "stdout",
     "output_type": "stream",
     "text": [
      "ios data:\n",
      "['id', 'track_name', 'size_bytes', 'currency', 'price', 'rating_count_tot', 'rating_count_ver', 'user_rating', 'user_rating_ver', 'ver', 'cont_rating', 'prime_genre', 'sup_devices.num', 'ipadSc_urls.num', 'lang.num', 'vpp_lic']\n",
      "\n",
      "\n",
      "['284882215', 'Facebook', '389879808', 'USD', '0.0', '2974676', '212', '3.5', '3.5', '95.0', '4+', 'Social Networking', '37', '1', '29', '1']\n",
      "\n",
      "\n",
      "['389801252', 'Instagram', '113954816', 'USD', '0.0', '2161558', '1289', '4.5', '4.0', '10.23', '12+', 'Photo & Video', '37', '0', '29', '1']\n",
      "\n",
      "\n",
      "['529479190', 'Clash of Clans', '116476928', 'USD', '0.0', '2130805', '579', '4.5', '4.5', '9.24.12', '9+', 'Games', '38', '5', '18', '1']\n",
      "\n",
      "\n",
      "['420009108', 'Temple Run', '65921024', 'USD', '0.0', '1724546', '3842', '4.5', '4.0', '1.6.2', '9+', 'Games', '40', '5', '1', '1']\n",
      "\n",
      "\n",
      "android data:\n",
      "['App', 'Category', 'Rating', 'Reviews', 'Size', 'Installs', 'Type', 'Price', 'Content Rating', 'Genres', 'Last Updated', 'Current Ver', 'Android Ver']\n",
      "\n",
      "\n",
      "['Photo Editor & Candy Camera & Grid & ScrapBook', 'ART_AND_DESIGN', '4.1', '159', '19M', '10,000+', 'Free', '0', 'Everyone', 'Art & Design', 'January 7, 2018', '1.0.0', '4.0.3 and up']\n",
      "\n",
      "\n",
      "['Coloring book moana', 'ART_AND_DESIGN', '3.9', '967', '14M', '500,000+', 'Free', '0', 'Everyone', 'Art & Design;Pretend Play', 'January 15, 2018', '2.0.0', '4.0.3 and up']\n",
      "\n",
      "\n",
      "['U Launcher Lite – FREE Live Cool Themes, Hide Apps', 'ART_AND_DESIGN', '4.7', '87510', '8.7M', '5,000,000+', 'Free', '0', 'Everyone', 'Art & Design', 'August 1, 2018', '1.2.4', '4.0.3 and up']\n",
      "\n",
      "\n",
      "['Sketch - Draw & Paint', 'ART_AND_DESIGN', '4.5', '215644', '25M', '50,000,000+', 'Free', '0', 'Teen', 'Art & Design', 'June 8, 2018', 'Varies with device', '4.2 and up']\n",
      "\n",
      "\n",
      "['Pixel Draw - Number Art Coloring Book', 'ART_AND_DESIGN', '4.3', '967', '2.8M', '100,000+', 'Free', '0', 'Everyone', 'Art & Design;Creativity', 'June 20, 2018', '1.1', '4.4 and up']\n",
      "\n",
      "\n",
      "ios data columns:\n",
      "['id', 'track_name', 'size_bytes', 'currency', 'price', 'rating_count_tot', 'rating_count_ver', 'user_rating', 'user_rating_ver', 'ver', 'cont_rating', 'prime_genre', 'sup_devices.num', 'ipadSc_urls.num', 'lang.num', 'vpp_lic']\n",
      "number of ios columns\n",
      "16\n",
      "android data columns:\n",
      "['App', 'Category', 'Rating', 'Reviews', 'Size', 'Installs', 'Type', 'Price', 'Content Rating', 'Genres', 'Last Updated', 'Current Ver', 'Android Ver']\n",
      "number of android columns\n",
      "13\n"
     ]
    }
   ],
   "source": [
    "print('ios data:')\n",
    "explore_data(data_ios,0,5)\n",
    "print('android data:')\n",
    "explore_data(data_android,0,6)\n",
    "print('ios data columns:')\n",
    "print(data_ios[0])\n",
    "print('number of ios columns')\n",
    "print(len(data_ios[0]))\n",
    "print('android data columns:')\n",
    "print(data_android[0])\n",
    "print('number of android columns')\n",
    "print(len(data_android[0]))"
   ]
  },
  {
   "cell_type": "code",
   "execution_count": 32,
   "metadata": {},
   "outputs": [
    {
     "name": "stdout",
     "output_type": "stream",
     "text": [
      "NaN\n"
     ]
    }
   ],
   "source": [
    "print(data_android[1047][2])\n",
    "    "
   ]
  },
  {
   "cell_type": "markdown",
   "metadata": {},
   "source": [
    "# ps\n",
    "the google play data set has some duplicate entries that we ll work on remove later, for now we are going to confirm that by printing some duplicate."
   ]
  },
  {
   "cell_type": "code",
   "execution_count": 17,
   "metadata": {},
   "outputs": [
    {
     "name": "stdout",
     "output_type": "stream",
     "text": [
      "['Instagram', 'SOCIAL', '4.5', '66577313', 'Varies with device', '1,000,000,000+', 'Free', '0', 'Teen', 'Social', 'July 31, 2018', 'Varies with device', 'Varies with device']\n",
      "['Instagram', 'SOCIAL', '4.5', '66577446', 'Varies with device', '1,000,000,000+', 'Free', '0', 'Teen', 'Social', 'July 31, 2018', 'Varies with device', 'Varies with device']\n",
      "['Instagram', 'SOCIAL', '4.5', '66577313', 'Varies with device', '1,000,000,000+', 'Free', '0', 'Teen', 'Social', 'July 31, 2018', 'Varies with device', 'Varies with device']\n",
      "['Instagram', 'SOCIAL', '4.5', '66509917', 'Varies with device', '1,000,000,000+', 'Free', '0', 'Teen', 'Social', 'July 31, 2018', 'Varies with device', 'Varies with device']\n"
     ]
    }
   ],
   "source": [
    "for row in data_android[1:]:\n",
    "    name=row[0]\n",
    "    if name=='Instagram':\n",
    "        print(row)"
   ]
  },
  {
   "cell_type": "markdown",
   "metadata": {},
   "source": [
    "Counting the number of duplicates: "
   ]
  },
  {
   "cell_type": "code",
   "execution_count": 18,
   "metadata": {},
   "outputs": [
    {
     "name": "stdout",
     "output_type": "stream",
     "text": [
      "nb of duplicate apps: 1181\n",
      "nb of unique apps: 9660\n"
     ]
    }
   ],
   "source": [
    "duplicates=[]\n",
    "unique=[]\n",
    "for row in data_android[1:]:\n",
    "    name=row[0]\n",
    "    if name in unique:\n",
    "        duplicates.append(name)\n",
    "    else:\n",
    "        unique.append(name)\n",
    "print('nb of duplicate apps:', len(duplicates))\n",
    "print('nb of unique apps:', len(unique))"
   ]
  },
  {
   "cell_type": "markdown",
   "metadata": {},
   "source": [
    "We certainly need to remove duplicates in our cleaning data process, but we won't do that randomly.\n",
    "when we printed the instagram app duplicates we noticed that the only difference between them was on the third column wich refers to the reviews. So the data was collected at different times. The best thing to do is to keep the latest version of the row I.E: the one with highest reviews value.\n"
   ]
  },
  {
   "cell_type": "code",
   "execution_count": 19,
   "metadata": {},
   "outputs": [
    {
     "name": "stdout",
     "output_type": "stream",
     "text": [
      "9660\n"
     ]
    }
   ],
   "source": [
    "reviews_max={}\n",
    "for row in data_android[1:]:\n",
    "    name=row[0]\n",
    "    n_reviews=row[3]\n",
    "    if (name in reviews_max) and (reviews_max[name]< n_reviews):\n",
    "        reviews_max[name]= n_reviews\n",
    "    elif name not in reviews_max:\n",
    "        reviews_max[name]=n_reviews\n",
    "print(len(reviews_max))        "
   ]
  },
  {
   "cell_type": "code",
   "execution_count": 20,
   "metadata": {},
   "outputs": [
    {
     "name": "stdout",
     "output_type": "stream",
     "text": [
      "9660\n"
     ]
    }
   ],
   "source": [
    "android_clean=[]\n",
    "already_added=[]\n",
    "for row in data_android[1:]:\n",
    "    name=row[0]\n",
    "    n_reviews=row[3]\n",
    "    if (n_reviews==reviews_max[name]) and (name not in already_added):\n",
    "        android_clean.append(row)\n",
    "        already_added.append(name)\n",
    "print(len(android_clean))        \n",
    "        "
   ]
  },
  {
   "cell_type": "code",
   "execution_count": 23,
   "metadata": {
    "collapsed": true
   },
   "outputs": [],
   "source": [
    "def english_name(string):\n",
    "    i=0\n",
    "    for r in string:\n",
    "        if ord(r)>127:\n",
    "            i+=1\n",
    "            if i>3:\n",
    "                return False\n",
    "    return True\n"
   ]
  },
  {
   "cell_type": "code",
   "execution_count": 44,
   "metadata": {},
   "outputs": [
    {
     "data": {
      "text/plain": [
       "True"
      ]
     },
     "execution_count": 44,
     "metadata": {},
     "output_type": "execute_result"
    }
   ],
   "source": [
    "english_name('Docs To Go™ Free Office Suite')\n"
   ]
  },
  {
   "cell_type": "markdown",
   "metadata": {},
   "source": [
    "# filtring non english app names\n"
   ]
  },
  {
   "cell_type": "code",
   "execution_count": 24,
   "metadata": {},
   "outputs": [
    {
     "name": "stdout",
     "output_type": "stream",
     "text": [
      "9615\n",
      "7197\n"
     ]
    }
   ],
   "source": [
    "#for android data set \n",
    "english_android=[]\n",
    "for row in android_clean:\n",
    "    name=row[0]\n",
    "    if english_name(name):\n",
    "        english_android.append(row)\n",
    "#for ios data set\n",
    "english_ios=[]\n",
    "for row in data_ios[1:]:\n",
    "    name=row[0]\n",
    "    if english_name(name):\n",
    "        english_ios.append(row)\n",
    "#exploring the remaining data \n",
    "#for android\n",
    "print(len(english_android))\n",
    "#for ios\n",
    "print(len(english_ios))\n",
    "        \n",
    "        \n",
    "    "
   ]
  },
  {
   "cell_type": "code",
   "execution_count": 25,
   "metadata": {},
   "outputs": [
    {
     "name": "stdout",
     "output_type": "stream",
     "text": [
      "the length for android cleaned dataset 8861\n",
      "the length for ios cleaned dataset 4056\n"
     ]
    }
   ],
   "source": [
    "#last thing in our cleaning process is to keep only free apps data\n",
    "#for both ios and android dataset\n",
    "#for android\n",
    "clean_android_vf=[]\n",
    "for row in english_android:\n",
    "    price=row[6]\n",
    "    if price=='Free':\n",
    "        clean_android_vf.append(row)\n",
    "#for ios \n",
    "clean_ios_vf=[]\n",
    "for row in english_ios:\n",
    "    price=float(row[4])\n",
    "    if price==0.0:\n",
    "        clean_ios_vf.append(row)\n",
    "#checking the length\n",
    "print('the length for android cleaned dataset', len(clean_android_vf))\n",
    "print('the length for ios cleaned dataset', len(clean_ios_vf))"
   ]
  },
  {
   "cell_type": "markdown",
   "metadata": {},
   "source": [
    "Our end goal is to add an app on both google play and the app store, and we want it to be profitable.\n",
    "so we are going to define the types of apps that works well for both markets.\n",
    "we are going to build two frequency table for each dataset.\n",
    "for the ios dataset: using the prime genre column\n",
    "for the android dataset: using the genre and category columns"
   ]
  },
  {
   "cell_type": "code",
   "execution_count": 26,
   "metadata": {
    "collapsed": true
   },
   "outputs": [],
   "source": [
    "def freq_table(dataset, index):\n",
    "    freq_dict={}\n",
    "    for row in dataset:\n",
    "        column=row[index]\n",
    "        if column in freq_dict:\n",
    "            freq_dict[column]+=1\n",
    "        else:\n",
    "            freq_dict[column]=1\n",
    "    return freq_dict   \n",
    "#display table function\n",
    "#this function transforms the frequence table into a list \n",
    "#of tuples, then sorts the list in descending order\n",
    "def display_table(dataset, index):\n",
    "    table = freq_table(dataset, index)\n",
    "    table_display = []\n",
    "    for key in table:\n",
    "        key_val_as_tuple = (table[key], key)\n",
    "        table_display.append(key_val_as_tuple)\n",
    "\n",
    "    table_sorted = sorted(table_display, reverse = True)\n",
    "    for entry in table_sorted:\n",
    "        print(entry[1], ':', entry[0])"
   ]
  },
  {
   "cell_type": "code",
   "execution_count": 29,
   "metadata": {},
   "outputs": [
    {
     "name": "stdout",
     "output_type": "stream",
     "text": [
      "for the Genres column: \n",
      "\n",
      "Tools : 748\n",
      "Entertainment : 538\n",
      "Education : 474\n",
      "Business : 407\n",
      "Productivity : 345\n",
      "Lifestyle : 345\n",
      "Finance : 328\n",
      "Medical : 312\n",
      "Sports : 307\n",
      "Personalization : 294\n",
      "Communication : 287\n",
      "Action : 275\n",
      "Health & Fitness : 273\n",
      "Photography : 261\n",
      "News & Magazines : 248\n",
      "Social : 236\n",
      "Travel & Local : 206\n",
      "Shopping : 199\n",
      "Books & Reference : 190\n",
      "Simulation : 181\n",
      "Dating : 165\n",
      "Arcade : 164\n",
      "Video Players & Editors : 157\n",
      "Casual : 155\n",
      "Maps & Navigation : 124\n",
      "Food & Drink : 110\n",
      "Puzzle : 100\n",
      "Racing : 88\n",
      "Role Playing : 83\n",
      "Libraries & Demo : 83\n",
      "Auto & Vehicles : 82\n",
      "Strategy : 80\n",
      "House & Home : 73\n",
      "Weather : 71\n",
      "Events : 63\n",
      "Adventure : 60\n",
      "Comics : 54\n",
      "Beauty : 53\n",
      "Art & Design : 53\n",
      "Parenting : 44\n",
      "Card : 39\n",
      "Casino : 38\n",
      "Trivia : 37\n",
      "Educational;Education : 35\n",
      "Educational : 33\n",
      "Board : 33\n",
      "Education;Education : 30\n",
      "Word : 23\n",
      "Casual;Pretend Play : 21\n",
      "Music : 18\n",
      "Puzzle;Brain Games : 16\n",
      "Racing;Action & Adventure : 15\n",
      "Entertainment;Music & Video : 15\n",
      "Casual;Brain Games : 12\n",
      "Casual;Action & Adventure : 12\n",
      "Arcade;Action & Adventure : 11\n",
      "Action;Action & Adventure : 9\n",
      "Educational;Pretend Play : 8\n",
      "Board;Brain Games : 8\n",
      "Simulation;Action & Adventure : 7\n",
      "Parenting;Education : 7\n",
      "Entertainment;Brain Games : 7\n",
      "Parenting;Music & Video : 6\n",
      "Educational;Brain Games : 6\n",
      "Casual;Creativity : 6\n",
      "Art & Design;Creativity : 6\n",
      "Education;Pretend Play : 5\n",
      "Role Playing;Pretend Play : 4\n",
      "Education;Creativity : 4\n",
      "Role Playing;Action & Adventure : 3\n",
      "Puzzle;Action & Adventure : 3\n",
      "Entertainment;Creativity : 3\n",
      "Entertainment;Action & Adventure : 3\n",
      "Educational;Creativity : 3\n",
      "Educational;Action & Adventure : 3\n",
      "Education;Music & Video : 3\n",
      "Education;Brain Games : 3\n",
      "Education;Action & Adventure : 3\n",
      "Adventure;Action & Adventure : 3\n",
      "Video Players & Editors;Music & Video : 2\n",
      "Sports;Action & Adventure : 2\n",
      "Simulation;Pretend Play : 2\n",
      "Puzzle;Creativity : 2\n",
      "Music;Music & Video : 2\n",
      "Entertainment;Pretend Play : 2\n",
      "Casual;Education : 2\n",
      "Board;Action & Adventure : 2\n",
      "Video Players & Editors;Creativity : 1\n",
      "Trivia;Education : 1\n",
      "Travel & Local;Action & Adventure : 1\n",
      "Tools;Education : 1\n",
      "Strategy;Education : 1\n",
      "Strategy;Creativity : 1\n",
      "Strategy;Action & Adventure : 1\n",
      "Simulation;Education : 1\n",
      "Role Playing;Brain Games : 1\n",
      "Racing;Pretend Play : 1\n",
      "Puzzle;Education : 1\n",
      "Parenting;Brain Games : 1\n",
      "Music & Audio;Music & Video : 1\n",
      "Lifestyle;Pretend Play : 1\n",
      "Lifestyle;Education : 1\n",
      "Health & Fitness;Education : 1\n",
      "Health & Fitness;Action & Adventure : 1\n",
      "Entertainment;Education : 1\n",
      "Communication;Creativity : 1\n",
      "Comics;Creativity : 1\n",
      "Casual;Music & Video : 1\n",
      "Card;Brain Games : 1\n",
      "Card;Action & Adventure : 1\n",
      "Books & Reference;Education : 1\n",
      "Art & Design;Pretend Play : 1\n",
      "Art & Design;Action & Adventure : 1\n",
      "Arcade;Pretend Play : 1\n",
      "Adventure;Education : 1\n",
      "\n",
      "\n",
      "\n",
      "\n",
      "for the category column: \n",
      " \n",
      "FAMILY : 1677\n",
      "GAME : 859\n",
      "TOOLS : 749\n",
      "BUSINESS : 407\n",
      "LIFESTYLE : 346\n",
      "PRODUCTIVITY : 345\n",
      "FINANCE : 328\n",
      "MEDICAL : 312\n",
      "SPORTS : 301\n",
      "PERSONALIZATION : 294\n",
      "COMMUNICATION : 287\n",
      "HEALTH_AND_FITNESS : 273\n",
      "PHOTOGRAPHY : 261\n",
      "NEWS_AND_MAGAZINES : 248\n",
      "SOCIAL : 236\n",
      "TRAVEL_AND_LOCAL : 207\n",
      "SHOPPING : 199\n",
      "BOOKS_AND_REFERENCE : 190\n",
      "DATING : 165\n",
      "VIDEO_PLAYERS : 159\n",
      "MAPS_AND_NAVIGATION : 124\n",
      "FOOD_AND_DRINK : 110\n",
      "EDUCATION : 104\n",
      "ENTERTAINMENT : 85\n",
      "LIBRARIES_AND_DEMO : 83\n",
      "AUTO_AND_VEHICLES : 82\n",
      "HOUSE_AND_HOME : 73\n",
      "WEATHER : 71\n",
      "EVENTS : 63\n",
      "PARENTING : 58\n",
      "ART_AND_DESIGN : 57\n",
      "COMICS : 55\n",
      "BEAUTY : 53\n",
      "\n",
      "\n",
      "\n",
      "\n",
      "for the prime-genre column: \n",
      "\n",
      "Games : 2257\n",
      "Entertainment : 334\n",
      "Photo & Video : 167\n",
      "Social Networking : 143\n",
      "Education : 132\n",
      "Shopping : 121\n",
      "Utilities : 109\n",
      "Lifestyle : 94\n",
      "Finance : 84\n",
      "Sports : 79\n",
      "Health & Fitness : 76\n",
      "Music : 67\n",
      "Book : 66\n",
      "Productivity : 62\n",
      "News : 58\n",
      "Travel : 56\n",
      "Food & Drink : 43\n",
      "Weather : 31\n",
      "Reference : 20\n",
      "Navigation : 20\n",
      "Business : 20\n",
      "Catalogs : 9\n",
      "Medical : 8\n"
     ]
    }
   ],
   "source": [
    "print('for the Genres column: \\n')\n",
    "display_table(clean_android_vf,9)\n",
    "print('\\n')\n",
    "print('\\n')\n",
    "print('for the category column: \\n ')\n",
    "display_table(clean_android_vf,1)\n",
    "print('\\n')\n",
    "print('\\n')\n",
    "print('for the prime-genre column: \\n')\n",
    "display_table(clean_ios_vf,11)"
   ]
  },
  {
   "cell_type": "markdown",
   "metadata": {},
   "source": [
    "# analyze\n",
    "from the frequency table listed above.\n",
    "for the prime_genre column (the only  one from the ios dataset) we have:\n",
    "_The most common genre is games with runner-up of 2257 apps\n",
    "_As a general impression we can say that the most used apps are designed for entertainment: (games:2257, entertainment:334, photo & video:167, social networking:143..)\n",
    "_We can recommend the gamming genre \n",
    "\n",
    "for the category and genre column (android dataset/ google play)\n",
    "_most common:tools\n",
    "\n",
    "** the frequency tables generated reveal the most frequent app genres and not what genres have the most users, for that we need to includes data from the number of downloads**\n"
   ]
  },
  {
   "cell_type": "markdown",
   "metadata": {},
   "source": [
    "The frequency tables we analyzed on the previous screen showed us that the App Store is dominated by apps designed for fun, while Google Play shows a more balanced landscape of both practical and fun apps. Now, we'd like to get an idea about the kind of apps with the most users.\n",
    "\n",
    "One way to find out what genres are the most popular (have the most users) is to calculate the average number of installs for each app genre. For the Google Play data set, we can find this information in the Installs column, but this information is missing for the App Store data set. As a workaround, we'll take the total number of user ratings as a proxy, which we can find in the rating_count_tot app."
   ]
  },
  {
   "cell_type": "code",
   "execution_count": 49,
   "metadata": {},
   "outputs": [
    {
     "name": "stdout",
     "output_type": "stream",
     "text": [
      "Productivity : 225.3709677419355\n",
      "Catalogs : 364.77777777777777\n",
      "Finance : 298.98809523809524\n",
      "Book : 106.68181818181819\n",
      "Games : 609.4714222419141\n",
      "Social Networking : 646.0\n",
      "Education : 683.3712121212121\n",
      "News : 62.3448275862069\n",
      "Navigation : 228.15\n",
      "Food & Drink : 457.4651162790698\n",
      "Shopping : 714.8595041322315\n",
      "Weather : 1624.4516129032259\n",
      "Photo & Video : 417.47904191616766\n",
      "Health & Fitness : 234.02631578947367\n",
      "Lifestyle : 1007.5\n",
      "Travel : 175.89285714285714\n",
      "Sports : 177.25316455696202\n",
      "Entertainment : 179.31736526946108\n",
      "Music : 618.8059701492538\n",
      "Utilities : 1618.2844036697247\n",
      "Reference : 2471.9\n",
      "Medical : 36.75\n",
      "Business : 183.6\n"
     ]
    }
   ],
   "source": [
    "freq_tab_genre_ios=freq_table(clean_ios_vf,11)\n",
    "for genre in freq_tab_genre_ios:\n",
    "    total=0\n",
    "    len_genre=0\n",
    "    for row in clean_ios_vf:\n",
    "        genre_app=row[11]\n",
    "        if genre_app==genre:\n",
    "            user_ratting=float(row[6])\n",
    "            total+=user_ratting\n",
    "            len_genre+=1\n",
    "    avrg=total/len_genre\n",
    "    print(genre ,':',avrg)"
   ]
  },
  {
   "cell_type": "markdown",
   "metadata": {},
   "source": [
    "from the table above we can recomande the reference apps genre wich have a high ratting average of 2471.9 or the weather one wich have a 1624.45 average"
   ]
  },
  {
   "cell_type": "code",
   "execution_count": 50,
   "metadata": {},
   "outputs": [
    {
     "name": "stdout",
     "output_type": "stream",
     "text": [
      "1,000,000+ : 1395\n",
      "100,000+ : 1024\n",
      "10,000,000+ : 932\n",
      "10,000+ : 904\n",
      "1,000+ : 744\n",
      "100+ : 613\n",
      "5,000,000+ : 606\n",
      "500,000+ : 494\n",
      "50,000+ : 423\n",
      "5,000+ : 400\n",
      "10+ : 314\n",
      "500+ : 288\n",
      "50,000,000+ : 203\n",
      "100,000,000+ : 188\n",
      "50+ : 170\n",
      "5+ : 70\n",
      "1+ : 45\n",
      "500,000,000+ : 24\n",
      "1,000,000,000+ : 20\n",
      "0+ : 4\n"
     ]
    }
   ],
   "source": [
    "display_table(clean_android_vf,5)"
   ]
  },
  {
   "cell_type": "code",
   "execution_count": 53,
   "metadata": {},
   "outputs": [
    {
     "name": "stdout",
     "output_type": "stream",
     "text": [
      "nb of duplicate category: 8828\n",
      "nb of unique category: 33\n"
     ]
    }
   ],
   "source": [
    "#later we are going to need a list of unique genre(category)\n",
    "duplicates_category=[]\n",
    "unique_category=[]\n",
    "for row in clean_android_vf:\n",
    "    category=row[1]\n",
    "    if category in unique_category:\n",
    "        duplicates_category.append(category)\n",
    "    else:\n",
    "        unique_category.append(category)\n",
    "print('nb of duplicate category:', len(duplicates_category))\n",
    "print('nb of unique category:', len(unique_category))"
   ]
  },
  {
   "cell_type": "markdown",
   "metadata": {},
   "source": [
    "now let s calculate the average number of installs per app genre for the Google Play data set"
   ]
  },
  {
   "cell_type": "code",
   "execution_count": 62,
   "metadata": {},
   "outputs": [
    {
     "name": "stdout",
     "output_type": "stream",
     "text": [
      "ART_AND_DESIGN : 1986335.0877192982\n",
      "AUTO_AND_VEHICLES : 647317.8170731707\n",
      "BEAUTY : 513151.88679245283\n",
      "BOOKS_AND_REFERENCE : 8767811.894736841\n",
      "BUSINESS : 1712290.1474201474\n",
      "COMICS : 817657.2727272727\n",
      "COMMUNICATION : 38456119.167247385\n",
      "DATING : 854028.8303030303\n",
      "EDUCATION : 1820673.076923077\n",
      "ENTERTAINMENT : 11640705.88235294\n",
      "EVENTS : 253542.22222222222\n",
      "FINANCE : 1387692.475609756\n",
      "FOOD_AND_DRINK : 1924897.7363636363\n",
      "HEALTH_AND_FITNESS : 4188821.9853479853\n",
      "HOUSE_AND_HOME : 1331540.5616438356\n",
      "LIBRARIES_AND_DEMO : 638503.734939759\n",
      "LIFESTYLE : 1437816.2687861272\n",
      "GAME : 15560965.599534342\n",
      "FAMILY : 3696479.242695289\n",
      "MEDICAL : 120616.48717948717\n",
      "SOCIAL : 23253652.127118643\n",
      "SHOPPING : 7036877.311557789\n",
      "PHOTOGRAPHY : 17805627.643678162\n",
      "SPORTS : 3638640.1428571427\n",
      "TRAVEL_AND_LOCAL : 13984077.710144928\n",
      "TOOLS : 10682301.033377837\n",
      "PERSONALIZATION : 5201482.6122448975\n",
      "PRODUCTIVITY : 16787331.344927534\n",
      "PARENTING : 542603.6206896552\n",
      "WEATHER : 5074486.197183099\n",
      "VIDEO_PLAYERS : 24727872.452830188\n",
      "NEWS_AND_MAGAZINES : 9549178.467741935\n",
      "MAPS_AND_NAVIGATION : 4056941.7741935486\n"
     ]
    }
   ],
   "source": [
    "#generating a frequency table for the category column\n",
    "cat_freq=freq_table(clean_android_vf,1)\n",
    "for category in unique_category:\n",
    "    total=0\n",
    "    len_category=0\n",
    "    for row in clean_android_vf:\n",
    "        category_app=row[1]\n",
    "        if category_app==category:\n",
    "            n_installs = row[5]\n",
    "            n_installs = n_installs.replace(',', '')\n",
    "            n_installs = n_installs.replace('+', '')\n",
    "            total += float(n_installs)\n",
    "            len_category+=1\n",
    "    avg_nb_installs=total/len_category\n",
    "    print(category, ':', avg_nb_installs)"
   ]
  },
  {
   "cell_type": "markdown",
   "metadata": {},
   "source": [
    "from here we can recommend the video_players category or communication "
   ]
  }
 ],
 "metadata": {
  "kernelspec": {
   "display_name": "Python 3",
   "language": "python",
   "name": "python3"
  },
  "language_info": {
   "codemirror_mode": {
    "name": "ipython",
    "version": 3
   },
   "file_extension": ".py",
   "mimetype": "text/x-python",
   "name": "python",
   "nbconvert_exporter": "python",
   "pygments_lexer": "ipython3",
   "version": "3.6.7"
  }
 },
 "nbformat": 4,
 "nbformat_minor": 2
}
